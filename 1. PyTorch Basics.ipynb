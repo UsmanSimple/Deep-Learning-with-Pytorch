{
  "nbformat": 4,
  "nbformat_minor": 0,
  "metadata": {
    "colab": {
      "name": "1. PyTorch Introduction.ipynb",
      "provenance": [],
      "collapsed_sections": []
    },
    "kernelspec": {
      "name": "python3",
      "display_name": "Python 3"
    },
    "language_info": {
      "name": "python"
    }
  },
  "cells": [
    {
      "cell_type": "code",
      "execution_count": null,
      "metadata": {
        "id": "75Ve9I3m0Rij"
      },
      "outputs": [],
      "source": [
        "import torch\n",
        "import torchvision\n",
        "import numpy as np\n",
        "import pandas as pd\n",
        "import matplotlib.pyplot as plt\n",
        "import seaborn as sns\n"
      ]
    },
    {
      "cell_type": "code",
      "source": [
        "a = np.ones(6, dtype='int64')\n",
        "b = torch.from_numpy(a)\n",
        "print(f'a : {a}, a_dtype ={a.dtype} ')\n",
        "print(f'b : {b}, b_dtype ={b.dtype} ')"
      ],
      "metadata": {
        "id": "C6Zo9O_p00n2",
        "colab": {
          "base_uri": "https://localhost:8080/"
        },
        "outputId": "e31be501-06b0-4cda-ea7b-6c20a310fccf"
      },
      "execution_count": null,
      "outputs": [
        {
          "output_type": "stream",
          "name": "stdout",
          "text": [
            "a : [1 1 1 1 1 1], a_dtype =int64 \n",
            "b : tensor([1, 1, 1, 1, 1, 1]), b_dtype =torch.int64 \n"
          ]
        }
      ]
    },
    {
      "cell_type": "code",
      "source": [
        "x = torch.tensor(3., requires_grad = True)\n",
        "y = torch.tensor(4., requires_grad=True)\n",
        "z = torch.tensor(5., requires_grad=True)\n",
        "k = x+y\n",
        "f = k * z\n",
        "\n",
        "f.backward()\n",
        "print(f'the grad of x w.r.t f is {x.grad}')\n",
        "print(f'the grad of y w.r.t f is {y.grad}')\n",
        "print(f'the grad of z w.r.t f is {z.grad}')\n",
        "print(f'the grad of k w.r.t f is {k.grad}')\n",
        "print(f'the grad of f w.r.t f is {f.grad}')"
      ],
      "metadata": {
        "colab": {
          "base_uri": "https://localhost:8080/"
        },
        "id": "TtXln3UcgGUq",
        "outputId": "0047e7d0-8704-48dc-8248-6565be5ede19"
      },
      "execution_count": null,
      "outputs": [
        {
          "output_type": "stream",
          "name": "stdout",
          "text": [
            "the grad of x w.r.t f is 5.0\n",
            "the grad of y w.r.t f is 5.0\n",
            "the grad of z w.r.t f is 7.0\n",
            "the grad of k w.r.t f is None\n",
            "the grad of f w.r.t f is None\n"
          ]
        },
        {
          "output_type": "stream",
          "name": "stderr",
          "text": [
            "/usr/local/lib/python3.7/dist-packages/torch/_tensor.py:1083: UserWarning: The .grad attribute of a Tensor that is not a leaf Tensor is being accessed. Its .grad attribute won't be populated during autograd.backward(). If you indeed want the .grad field to be populated for a non-leaf Tensor, use .retain_grad() on the non-leaf Tensor. If you access the non-leaf Tensor by mistake, make sure you access the leaf Tensor instead. See github.com/pytorch/pytorch/pull/30531 for more informations. (Triggered internally at  aten/src/ATen/core/TensorBody.h:477.)\n",
            "  return self._grad\n"
          ]
        }
      ]
    },
    {
      "cell_type": "markdown",
      "source": [
        "## AUTOGRAD IN PYTORCH"
      ],
      "metadata": {
        "id": "1VJcEA41lA01"
      }
    },
    {
      "cell_type": "code",
      "source": [
        "x = torch.tensor(1.0, requires_grad= True)\n",
        "y = torch.tensor(2.0)\n",
        "z = x * y\n",
        "\n",
        "for i, name in zip([x, y, z], 'xyz'):\n",
        "  print(f'{name}\\ndata: {i.data}\\nrequires_grad: {i.requires_grad}\\ngrad: {i.grad}\\ngrad_fn : {i.grad_fn}\\nis_leaf : {i.is_leaf}\\n')"
      ],
      "metadata": {
        "colab": {
          "base_uri": "https://localhost:8080/"
        },
        "id": "pW63a0F7npmq",
        "outputId": "f4b98c94-3a22-4873-ce18-8edb1644fef1"
      },
      "execution_count": null,
      "outputs": [
        {
          "output_type": "stream",
          "name": "stdout",
          "text": [
            "x\n",
            "data: 1.0\n",
            "requires_grad: True\n",
            "grad: None\n",
            "grad_fn : None\n",
            "is_leaf : True\n",
            "\n",
            "y\n",
            "data: 2.0\n",
            "requires_grad: False\n",
            "grad: None\n",
            "grad_fn : None\n",
            "is_leaf : True\n",
            "\n",
            "z\n",
            "data: 2.0\n",
            "requires_grad: True\n",
            "grad: None\n",
            "grad_fn : <MulBackward0 object at 0x7f71c4b7db90>\n",
            "is_leaf : False\n",
            "\n"
          ]
        },
        {
          "output_type": "stream",
          "name": "stderr",
          "text": [
            "/usr/local/lib/python3.7/dist-packages/torch/_tensor.py:1083: UserWarning: The .grad attribute of a Tensor that is not a leaf Tensor is being accessed. Its .grad attribute won't be populated during autograd.backward(). If you indeed want the .grad field to be populated for a non-leaf Tensor, use .retain_grad() on the non-leaf Tensor. If you access the non-leaf Tensor by mistake, make sure you access the leaf Tensor instead. See github.com/pytorch/pytorch/pull/30531 for more informations. (Triggered internally at  aten/src/ATen/core/TensorBody.h:477.)\n",
            "  return self._grad\n"
          ]
        }
      ]
    },
    {
      "cell_type": "code",
      "source": [
        "x = torch.randn(5, requires_grad = True)\n",
        "y = x + 2\n",
        "z = x.mean()\n",
        "y.sum().backward()\n",
        "print(x.grad)"
      ],
      "metadata": {
        "colab": {
          "base_uri": "https://localhost:8080/"
        },
        "id": "dHEC6LgehxjJ",
        "outputId": "13daf67d-6f6b-485e-9936-e136c25cedd2"
      },
      "execution_count": null,
      "outputs": [
        {
          "output_type": "stream",
          "name": "stdout",
          "text": [
            "tensor([1., 1., 1., 1., 1.])\n"
          ]
        }
      ]
    },
    {
      "cell_type": "code",
      "source": [
        "x = torch.arange(3., requires_grad=True)\n",
        "y= torch.dot(x,x)\n",
        "print(x)\n",
        "print(y)\n",
        "print(x.grad) # None since no operation has been rendered on the x\n",
        "y.backward()\n",
        "print(x.grad)\n",
        "2*x == x.grad\n"
      ],
      "metadata": {
        "colab": {
          "base_uri": "https://localhost:8080/"
        },
        "id": "1hz_IDcXlctt",
        "outputId": "97dc923a-ef03-46dd-b07a-b8bc270d9a64"
      },
      "execution_count": null,
      "outputs": [
        {
          "output_type": "stream",
          "name": "stdout",
          "text": [
            "tensor([0., 1., 2.], requires_grad=True)\n",
            "tensor(5., grad_fn=<DotBackward0>)\n",
            "None\n",
            "tensor([0., 2., 4.])\n"
          ]
        },
        {
          "output_type": "execute_result",
          "data": {
            "text/plain": [
              "tensor([True, True, True])"
            ]
          },
          "metadata": {},
          "execution_count": 6
        }
      ]
    },
    {
      "cell_type": "code",
      "source": [
        "x.grad.zero_()\n",
        "y = x.sum()\n",
        "y.backward()\n",
        "print(x.grad)"
      ],
      "metadata": {
        "colab": {
          "base_uri": "https://localhost:8080/"
        },
        "id": "7TzDtXHVZn_T",
        "outputId": "12e2a2d0-8e7c-4ea7-a672-8176680213c9"
      },
      "execution_count": null,
      "outputs": [
        {
          "output_type": "stream",
          "name": "stdout",
          "text": [
            "tensor([1., 1., 1.])\n"
          ]
        }
      ]
    },
    {
      "cell_type": "code",
      "source": [
        "x = torch.arange(4., requires_grad=True) #int grad error, Only tensors with floating point or complex dtype can require gradients\n",
        "y = x ** 2\n",
        "y.backward()\n",
        "print(x.grad) # Error shown why cos grad can be implicitly created for scalar outputs!!!!"
      ],
      "metadata": {
        "colab": {
          "base_uri": "https://localhost:8080/",
          "height": 433
        },
        "id": "IcrFP-Iff6lD",
        "outputId": "dcdf59af-eed4-48f2-e2dd-bf0de41487af"
      },
      "execution_count": null,
      "outputs": [
        {
          "output_type": "error",
          "ename": "RuntimeError",
          "evalue": "ignored",
          "traceback": [
            "\u001b[0;31m---------------------------------------------------------------------------\u001b[0m",
            "\u001b[0;31mRuntimeError\u001b[0m                              Traceback (most recent call last)",
            "\u001b[0;32m<ipython-input-18-83e78c404cb4>\u001b[0m in \u001b[0;36m<module>\u001b[0;34m()\u001b[0m\n\u001b[1;32m      1\u001b[0m \u001b[0mx\u001b[0m \u001b[0;34m=\u001b[0m \u001b[0mtorch\u001b[0m\u001b[0;34m.\u001b[0m\u001b[0marange\u001b[0m\u001b[0;34m(\u001b[0m\u001b[0;36m4.\u001b[0m\u001b[0;34m,\u001b[0m \u001b[0mrequires_grad\u001b[0m\u001b[0;34m=\u001b[0m\u001b[0;32mTrue\u001b[0m\u001b[0;34m)\u001b[0m \u001b[0;31m#int grad error, Only tensors with floating point or complex dtype can require gradients\u001b[0m\u001b[0;34m\u001b[0m\u001b[0;34m\u001b[0m\u001b[0m\n\u001b[1;32m      2\u001b[0m \u001b[0my\u001b[0m \u001b[0;34m=\u001b[0m \u001b[0mx\u001b[0m \u001b[0;34m**\u001b[0m \u001b[0;36m2\u001b[0m\u001b[0;34m\u001b[0m\u001b[0;34m\u001b[0m\u001b[0m\n\u001b[0;32m----> 3\u001b[0;31m \u001b[0my\u001b[0m\u001b[0;34m.\u001b[0m\u001b[0mbackward\u001b[0m\u001b[0;34m(\u001b[0m\u001b[0;34m)\u001b[0m\u001b[0;34m\u001b[0m\u001b[0;34m\u001b[0m\u001b[0m\n\u001b[0m\u001b[1;32m      4\u001b[0m \u001b[0mprint\u001b[0m\u001b[0;34m(\u001b[0m\u001b[0mx\u001b[0m\u001b[0;34m.\u001b[0m\u001b[0mgrad\u001b[0m\u001b[0;34m)\u001b[0m \u001b[0;31m# Error shown why !!!!\u001b[0m\u001b[0;34m\u001b[0m\u001b[0;34m\u001b[0m\u001b[0m\n",
            "\u001b[0;32m/usr/local/lib/python3.7/dist-packages/torch/_tensor.py\u001b[0m in \u001b[0;36mbackward\u001b[0;34m(self, gradient, retain_graph, create_graph, inputs)\u001b[0m\n\u001b[1;32m    361\u001b[0m                 \u001b[0mcreate_graph\u001b[0m\u001b[0;34m=\u001b[0m\u001b[0mcreate_graph\u001b[0m\u001b[0;34m,\u001b[0m\u001b[0;34m\u001b[0m\u001b[0;34m\u001b[0m\u001b[0m\n\u001b[1;32m    362\u001b[0m                 inputs=inputs)\n\u001b[0;32m--> 363\u001b[0;31m         \u001b[0mtorch\u001b[0m\u001b[0;34m.\u001b[0m\u001b[0mautograd\u001b[0m\u001b[0;34m.\u001b[0m\u001b[0mbackward\u001b[0m\u001b[0;34m(\u001b[0m\u001b[0mself\u001b[0m\u001b[0;34m,\u001b[0m \u001b[0mgradient\u001b[0m\u001b[0;34m,\u001b[0m \u001b[0mretain_graph\u001b[0m\u001b[0;34m,\u001b[0m \u001b[0mcreate_graph\u001b[0m\u001b[0;34m,\u001b[0m \u001b[0minputs\u001b[0m\u001b[0;34m=\u001b[0m\u001b[0minputs\u001b[0m\u001b[0;34m)\u001b[0m\u001b[0;34m\u001b[0m\u001b[0;34m\u001b[0m\u001b[0m\n\u001b[0m\u001b[1;32m    364\u001b[0m \u001b[0;34m\u001b[0m\u001b[0m\n\u001b[1;32m    365\u001b[0m     \u001b[0;32mdef\u001b[0m \u001b[0mregister_hook\u001b[0m\u001b[0;34m(\u001b[0m\u001b[0mself\u001b[0m\u001b[0;34m,\u001b[0m \u001b[0mhook\u001b[0m\u001b[0;34m)\u001b[0m\u001b[0;34m:\u001b[0m\u001b[0;34m\u001b[0m\u001b[0;34m\u001b[0m\u001b[0m\n",
            "\u001b[0;32m/usr/local/lib/python3.7/dist-packages/torch/autograd/__init__.py\u001b[0m in \u001b[0;36mbackward\u001b[0;34m(tensors, grad_tensors, retain_graph, create_graph, grad_variables, inputs)\u001b[0m\n\u001b[1;32m    164\u001b[0m \u001b[0;34m\u001b[0m\u001b[0m\n\u001b[1;32m    165\u001b[0m     \u001b[0mgrad_tensors_\u001b[0m \u001b[0;34m=\u001b[0m \u001b[0m_tensor_or_tensors_to_tuple\u001b[0m\u001b[0;34m(\u001b[0m\u001b[0mgrad_tensors\u001b[0m\u001b[0;34m,\u001b[0m \u001b[0mlen\u001b[0m\u001b[0;34m(\u001b[0m\u001b[0mtensors\u001b[0m\u001b[0;34m)\u001b[0m\u001b[0;34m)\u001b[0m\u001b[0;34m\u001b[0m\u001b[0;34m\u001b[0m\u001b[0m\n\u001b[0;32m--> 166\u001b[0;31m     \u001b[0mgrad_tensors_\u001b[0m \u001b[0;34m=\u001b[0m \u001b[0m_make_grads\u001b[0m\u001b[0;34m(\u001b[0m\u001b[0mtensors\u001b[0m\u001b[0;34m,\u001b[0m \u001b[0mgrad_tensors_\u001b[0m\u001b[0;34m,\u001b[0m \u001b[0mis_grads_batched\u001b[0m\u001b[0;34m=\u001b[0m\u001b[0;32mFalse\u001b[0m\u001b[0;34m)\u001b[0m\u001b[0;34m\u001b[0m\u001b[0;34m\u001b[0m\u001b[0m\n\u001b[0m\u001b[1;32m    167\u001b[0m     \u001b[0;32mif\u001b[0m \u001b[0mretain_graph\u001b[0m \u001b[0;32mis\u001b[0m \u001b[0;32mNone\u001b[0m\u001b[0;34m:\u001b[0m\u001b[0;34m\u001b[0m\u001b[0;34m\u001b[0m\u001b[0m\n\u001b[1;32m    168\u001b[0m         \u001b[0mretain_graph\u001b[0m \u001b[0;34m=\u001b[0m \u001b[0mcreate_graph\u001b[0m\u001b[0;34m\u001b[0m\u001b[0;34m\u001b[0m\u001b[0m\n",
            "\u001b[0;32m/usr/local/lib/python3.7/dist-packages/torch/autograd/__init__.py\u001b[0m in \u001b[0;36m_make_grads\u001b[0;34m(outputs, grads, is_grads_batched)\u001b[0m\n\u001b[1;32m     65\u001b[0m             \u001b[0;32mif\u001b[0m \u001b[0mout\u001b[0m\u001b[0;34m.\u001b[0m\u001b[0mrequires_grad\u001b[0m\u001b[0;34m:\u001b[0m\u001b[0;34m\u001b[0m\u001b[0;34m\u001b[0m\u001b[0m\n\u001b[1;32m     66\u001b[0m                 \u001b[0;32mif\u001b[0m \u001b[0mout\u001b[0m\u001b[0;34m.\u001b[0m\u001b[0mnumel\u001b[0m\u001b[0;34m(\u001b[0m\u001b[0;34m)\u001b[0m \u001b[0;34m!=\u001b[0m \u001b[0;36m1\u001b[0m\u001b[0;34m:\u001b[0m\u001b[0;34m\u001b[0m\u001b[0;34m\u001b[0m\u001b[0m\n\u001b[0;32m---> 67\u001b[0;31m                     \u001b[0;32mraise\u001b[0m \u001b[0mRuntimeError\u001b[0m\u001b[0;34m(\u001b[0m\u001b[0;34m\"grad can be implicitly created only for scalar outputs\"\u001b[0m\u001b[0;34m)\u001b[0m\u001b[0;34m\u001b[0m\u001b[0;34m\u001b[0m\u001b[0m\n\u001b[0m\u001b[1;32m     68\u001b[0m                 \u001b[0mnew_grads\u001b[0m\u001b[0;34m.\u001b[0m\u001b[0mappend\u001b[0m\u001b[0;34m(\u001b[0m\u001b[0mtorch\u001b[0m\u001b[0;34m.\u001b[0m\u001b[0mones_like\u001b[0m\u001b[0;34m(\u001b[0m\u001b[0mout\u001b[0m\u001b[0;34m,\u001b[0m \u001b[0mmemory_format\u001b[0m\u001b[0;34m=\u001b[0m\u001b[0mtorch\u001b[0m\u001b[0;34m.\u001b[0m\u001b[0mpreserve_format\u001b[0m\u001b[0;34m)\u001b[0m\u001b[0;34m)\u001b[0m\u001b[0;34m\u001b[0m\u001b[0;34m\u001b[0m\u001b[0m\n\u001b[1;32m     69\u001b[0m             \u001b[0;32melse\u001b[0m\u001b[0;34m:\u001b[0m\u001b[0;34m\u001b[0m\u001b[0;34m\u001b[0m\u001b[0m\n",
            "\u001b[0;31mRuntimeError\u001b[0m: grad can be implicitly created only for scalar outputs"
          ]
        }
      ]
    },
    {
      "cell_type": "code",
      "source": [
        "x = torch.arange(4., requires_grad=True) #int grad error, Only tensors with floating point or complex dtype can require gradients\n",
        "y = x ** 2 # create a vector differentiation\n",
        "y.backward(torch.tensor([1., 1., 1., 1.]))\n",
        "x.grad"
      ],
      "metadata": {
        "colab": {
          "base_uri": "https://localhost:8080/"
        },
        "id": "OvMILp7WkuBA",
        "outputId": "2df35022-65a4-4a03-d0cd-5ecd05c845f2"
      },
      "execution_count": null,
      "outputs": [
        {
          "output_type": "execute_result",
          "data": {
            "text/plain": [
              "tensor([0., 2., 4., 6.])"
            ]
          },
          "metadata": {},
          "execution_count": 8
        }
      ]
    },
    {
      "cell_type": "markdown",
      "source": [
        "## UNTRACK GRADIENT"
      ],
      "metadata": {
        "id": "D1Er-U4kxAHx"
      }
    },
    {
      "cell_type": "code",
      "source": [
        "x = torch.randn((4,2), requires_grad = True)\n",
        "print(x)\n",
        "# x.requires_grad_(False)\n",
        "# y = x.detach()\n",
        "with torch.no_grad():\n",
        "  y = x+ 5\n",
        "  print(x)\n",
        "  print(y)"
      ],
      "metadata": {
        "colab": {
          "base_uri": "https://localhost:8080/"
        },
        "id": "hQmLiykrxMJc",
        "outputId": "6eb575e7-ce97-4a1b-fb9c-f5de19b7fcc1"
      },
      "execution_count": null,
      "outputs": [
        {
          "output_type": "stream",
          "name": "stdout",
          "text": [
            "tensor([[ 0.8625, -0.9797],\n",
            "        [ 0.7262,  0.3486],\n",
            "        [ 1.3243,  0.6804],\n",
            "        [ 0.4570,  0.0698]], requires_grad=True)\n",
            "tensor([[ 0.8625, -0.9797],\n",
            "        [ 0.7262,  0.3486],\n",
            "        [ 1.3243,  0.6804],\n",
            "        [ 0.4570,  0.0698]], requires_grad=True)\n",
            "tensor([[5.8625, 4.0203],\n",
            "        [5.7262, 5.3486],\n",
            "        [6.3243, 5.6804],\n",
            "        [5.4570, 5.0698]])\n"
          ]
        }
      ]
    },
    {
      "cell_type": "markdown",
      "source": [
        "Gradient Numpy"
      ],
      "metadata": {
        "id": "8Lc6FO92z6C0"
      }
    },
    {
      "cell_type": "code",
      "source": [
        "X = np.array([1,2,3,4], dtype= np.float32)\n",
        "y = np.array([2,4,6,8], dtype = np.float32)\n",
        "\n",
        "w = 0.0\n",
        "\n",
        "# forward\n",
        "def forward(X):\n",
        "  return w * X\n",
        "\n",
        "def loss(y, y_pred):\n",
        "  return ((y_pred - y)**2).mean()\n",
        "\n",
        "def gradient(X, y, y_pred):\n",
        "  return np.dot(2*X, y_pred - y).mean()\n",
        "\n",
        "iters = 20\n",
        "lr = 0.01\n",
        "\n",
        "print(f'The prediction before training is {forward(5):.5f}')\n",
        "\n",
        "for epoch in range(iters):\n",
        "  # forward pass\n",
        "   y_pred = forward(X)\n",
        "\n",
        "   # loss\n",
        "   l = loss(y, y_pred)\n",
        "\n",
        "   # compute gradient\n",
        "   dw = gradient(X,y,y_pred)\n",
        "\n",
        "   w-= lr *  dw\n",
        "\n",
        "   if epoch % 2 == 0:\n",
        "     print(f\"epoch: {epoch+1}, weight: {w:.3f}, loss: {l:.8f}, gradient: {dw:.5f}\")\n",
        "\n",
        "print(f'The prediction after training is {forward(5):.5f}')"
      ],
      "metadata": {
        "id": "otlDm9cmxw2a",
        "colab": {
          "base_uri": "https://localhost:8080/"
        },
        "outputId": "adca4654-7a63-43b6-f942-50e18daba00e"
      },
      "execution_count": null,
      "outputs": [
        {
          "output_type": "stream",
          "name": "stdout",
          "text": [
            "The prediction before training is 0.00000\n",
            "epoch: 1, weight: 1.200, loss: 30.00000000, gradient: -120.00000\n",
            "epoch: 3, weight: 1.872, loss: 0.76800019, gradient: -19.20000\n",
            "epoch: 5, weight: 1.980, loss: 0.01966083, gradient: -3.07200\n",
            "epoch: 7, weight: 1.997, loss: 0.00050331, gradient: -0.49152\n",
            "epoch: 9, weight: 1.999, loss: 0.00001288, gradient: -0.07864\n",
            "epoch: 11, weight: 2.000, loss: 0.00000033, gradient: -0.01258\n",
            "epoch: 13, weight: 2.000, loss: 0.00000001, gradient: -0.00202\n",
            "epoch: 15, weight: 2.000, loss: 0.00000000, gradient: -0.00032\n",
            "epoch: 17, weight: 2.000, loss: 0.00000000, gradient: -0.00005\n",
            "epoch: 19, weight: 2.000, loss: 0.00000000, gradient: -0.00001\n",
            "The prediction after training is 10.00000\n"
          ]
        }
      ]
    },
    {
      "cell_type": "markdown",
      "source": [
        "GRADIENT WITH TORCH "
      ],
      "metadata": {
        "id": "BpHinxjS5GMa"
      }
    },
    {
      "cell_type": "code",
      "source": [
        "X = torch.tensor([1,2,3,4], dtype= torch.float32)\n",
        "y = torch.tensor([2,4,6,8], dtype = torch.float32)\n",
        "\n",
        "w = torch.tensor(0.0, dtype=torch.float32, requires_grad= True)\n",
        "\n",
        "# forward\n",
        "def forward(X):\n",
        "  return w * X\n",
        "\n",
        "def loss(y, y_pred):\n",
        "  return ((y_pred - y)**2).mean()\n",
        "\n",
        "\n",
        "iters = 100\n",
        "lr = 0.01\n",
        "\n",
        "print(f'The prediction before training is {forward(5):.5f}')\n",
        "\n",
        "for epoch in range(iters):\n",
        "  y_pred = forward(X)\n",
        "  \n",
        "  l = loss(y, y_pred)\n",
        "  \n",
        "  \n",
        "  l.backward( )\n",
        "  \n",
        "  with torch.no_grad():\n",
        "     w -= lr * w.grad\n",
        "\n",
        "  w.grad.zero_()\n",
        "  \n",
        "  if epoch % 10 == 0:\n",
        "     print(f\"epoch: {epoch+1}, weight: {w:.3f}, loss: {l:.8f}, gradient: {w.grad:.5f}\")\n",
        "\n",
        "print(f'The prediction after training is {forward(5):.5f}')"
      ],
      "metadata": {
        "id": "CfmnDm-k3ECs",
        "colab": {
          "base_uri": "https://localhost:8080/"
        },
        "outputId": "4fa3fdf8-78ec-49f2-eea1-5b52bb0f536f"
      },
      "execution_count": null,
      "outputs": [
        {
          "output_type": "stream",
          "name": "stdout",
          "text": [
            "The prediction before training is 0.00000\n",
            "epoch: 1, weight: 0.300, loss: 30.00000000, gradient: 0.00000\n",
            "epoch: 11, weight: 1.665, loss: 1.16278565, gradient: 0.00000\n",
            "epoch: 21, weight: 1.934, loss: 0.04506890, gradient: 0.00000\n",
            "epoch: 31, weight: 1.987, loss: 0.00174685, gradient: 0.00000\n",
            "epoch: 41, weight: 1.997, loss: 0.00006770, gradient: 0.00000\n",
            "epoch: 51, weight: 1.999, loss: 0.00000262, gradient: 0.00000\n",
            "epoch: 61, weight: 2.000, loss: 0.00000010, gradient: 0.00000\n",
            "epoch: 71, weight: 2.000, loss: 0.00000000, gradient: 0.00000\n",
            "epoch: 81, weight: 2.000, loss: 0.00000000, gradient: 0.00000\n",
            "epoch: 91, weight: 2.000, loss: 0.00000000, gradient: 0.00000\n",
            "The prediction after training is 10.00000\n"
          ]
        }
      ]
    },
    {
      "cell_type": "markdown",
      "source": [
        "PYTORCH DESIGN"
      ],
      "metadata": {
        "id": "CSFMWFAN9wyX"
      }
    },
    {
      "cell_type": "code",
      "source": [
        "# Design model (input, output, forward pass)\n",
        "# Construct loss and optimizer\n",
        "# Create a training loop\n",
        "#   - forward pass : compute prediction\n",
        "#   - backward pass: compute gradient\n",
        "#   - optimizer: update weights\n",
        "\n",
        "import torch.nn as nn\n",
        "\n",
        "X = torch.tensor([[1],[2],[3],[4]], dtype= torch.float32)\n",
        "y = torch.tensor([[2],[4],[6],[8]], dtype = torch.float32)\n",
        "\n",
        "X_test = torch.tensor([5], dtype = torch.float32)\n",
        "\n",
        "n_samples, n_features = X.shape\n",
        "\n",
        "input_size = n_features\n",
        "output_size = n_features\n",
        "\n",
        "\n",
        "model = nn.Linear(input_size, output_size)\n",
        "\n",
        "iters = 1000\n",
        "lr = 0.01\n",
        "\n",
        "w = torch.tensor(0.0, dtype=torch.float32, requires_grad= True)\n",
        "\n",
        "loss = nn.MSELoss()\n",
        "\n",
        "optimizer= torch.optim.SGD(model.parameters(), lr = lr)\n",
        "\n",
        "print(f'The prediction before training is {model(X_test).item():.5f}')\n",
        "\n",
        "for epoch in range(iters):\n",
        "  y_pred = model(X)\n",
        "  \n",
        "  l = loss(y, y_pred)\n",
        "  \n",
        "  #gradient backward pass\n",
        "  l.backward( )\n",
        "\n",
        "  #update weights\n",
        "  optimizer.step()\n",
        "\n",
        "  #  zero the gradients\n",
        "  optimizer.zero_grad()\n",
        "  \n",
        "  if epoch % 100 == 0:\n",
        "    [w, b] = model.parameters()\n",
        "    print(f\"epoch: {epoch+1}, weight: {w[0][0].item():.3f}, loss: {l:.8f}\")\n",
        "\n",
        "print(f'The prediction after training for Model(5):- {model(X_test).item():.5f}')\n",
        "\n",
        "\n",
        "\n"
      ],
      "metadata": {
        "colab": {
          "base_uri": "https://localhost:8080/"
        },
        "id": "7afct89a7LRq",
        "outputId": "124bc640-db51-46ed-bcb5-510d6cd36d00"
      },
      "execution_count": null,
      "outputs": [
        {
          "output_type": "stream",
          "name": "stdout",
          "text": [
            "The prediction before training is 1.98644\n",
            "epoch: 1, weight: 0.424, loss: 16.44056892\n",
            "epoch: 101, weight: 1.644, loss: 0.18391101\n",
            "epoch: 201, weight: 1.736, loss: 0.10096490\n",
            "epoch: 301, weight: 1.805, loss: 0.05542856\n",
            "epoch: 401, weight: 1.855, loss: 0.03042961\n",
            "epoch: 501, weight: 1.893, loss: 0.01670550\n",
            "epoch: 601, weight: 1.921, loss: 0.00917110\n",
            "epoch: 701, weight: 1.941, loss: 0.00503483\n",
            "epoch: 801, weight: 1.956, loss: 0.00276407\n",
            "epoch: 901, weight: 1.968, loss: 0.00151743\n",
            "The prediction after training for Model(5):- 9.95052\n"
          ]
        }
      ]
    },
    {
      "cell_type": "code",
      "source": [
        "# custom Linear model class\n",
        "\n",
        "class LinearModel(nn.Module):\n",
        "  \n",
        "  def __init__(self, input_dim, output_dim):\n",
        "\n",
        "    super(LinearModel, self).__init__()\n",
        "\n",
        "    self.lin = nn.Linear(input_dim, output_dim)\n",
        "\n",
        "  def forward(self, x):\n",
        "\n",
        "    return self.lin(x)\n",
        "\n",
        "X = torch.tensor([[1],[2],[3],[4]], dtype= torch.float32)\n",
        "y = torch.tensor([[2],[4],[6],[8]], dtype = torch.float32)\n",
        "\n",
        "X_test = torch.tensor([5], dtype = torch.float32)\n",
        "n_samples, n_features = X.shape\n",
        "\n",
        "input_size = n_features\n",
        "output_size = n_features\n",
        "\n",
        "\n",
        "model = LinearModel(input_size, output_size)\n",
        "\n",
        "loss = nn.MSELoss()\n",
        "\n",
        "optimizer= torch.optim.SGD(model.parameters(), lr = lr)\n",
        "\n",
        "print(f'The prediction before training for  Model(5) :- {model(X_test).item():.5f}')\n",
        "\n",
        "iters = 1000\n",
        "lr = 0.01\n",
        "\n",
        "for epoch in range(iters):\n",
        "  y_pred = model(X)\n",
        "  \n",
        "  l = loss(y, y_pred)\n",
        "  \n",
        "  #gradient backward pass\n",
        "  l.backward( )\n",
        "\n",
        "  #update weights\n",
        "  optimizer.step()\n",
        "\n",
        "  #  zero the gradients\n",
        "  optimizer.zero_grad()\n",
        "  \n",
        "  if epoch % 100 == 0:\n",
        "    [w, b] = model.parameters()\n",
        "\n",
        "    print(f\"epoch: {epoch+1}, weight: {w[0][0].item():.3f}, bias: {b[0]:.3f}, loss: {l:.8f}, \")\n",
        "\n",
        "print(f'The prediction after training for Model(5):- {model(X_test).item():.5f}')"
      ],
      "metadata": {
        "colab": {
          "base_uri": "https://localhost:8080/"
        },
        "id": "vLaVEcjhD39w",
        "outputId": "c6ec5b79-32eb-42b4-f07a-7a5baa42bfe5"
      },
      "execution_count": null,
      "outputs": [
        {
          "output_type": "stream",
          "name": "stdout",
          "text": [
            "The prediction before training for  Model(5) :- 3.49857\n",
            "epoch: 1, weight: 0.696, bias: 0.957, loss: 10.58054352, \n",
            "epoch: 101, weight: 1.684, bias: 0.930, loss: 0.14536212, \n",
            "epoch: 201, weight: 1.766, bias: 0.689, loss: 0.07980205, \n",
            "epoch: 301, weight: 1.826, bias: 0.511, loss: 0.04381045, \n",
            "epoch: 401, weight: 1.871, bias: 0.378, loss: 0.02405139, \n",
            "epoch: 501, weight: 1.905, bias: 0.280, loss: 0.01320392, \n",
            "epoch: 601, weight: 1.929, bias: 0.208, loss: 0.00724879, \n",
            "epoch: 701, weight: 1.948, bias: 0.154, loss: 0.00397950, \n",
            "epoch: 801, weight: 1.961, bias: 0.114, loss: 0.00218470, \n",
            "epoch: 901, weight: 1.971, bias: 0.084, loss: 0.00119937, \n",
            "The prediction after training for Model(5):- 9.95601\n"
          ]
        }
      ]
    },
    {
      "cell_type": "code",
      "source": [
        "from sklearn import datasets\n",
        "\n",
        "X_numpy, y_numpy = datasets.make_regression(n_samples = 100, n_features=1, noise=20, random_state=4)\n",
        "X = torch.from_numpy(X_numpy.astype(np.float32))\n",
        "y_t = torch.from_numpy(y_numpy.astype(np.float32))\n",
        "y = y_t.view(y_t.shape[0], 1)\n",
        "\n",
        "n_sample, n_features = X.shape\n",
        "input_size = n_features\n",
        "output_size = 1\n",
        "model = nn.Linear(input_size, output_size)\n",
        "\n",
        "criterion = nn.MSELoss()\n",
        "opt = torch.optim.SGD(model.parameters(), lr = lr)\n",
        "\n",
        "lr = 0.01\n",
        "num_epochs = 100\n",
        "\n",
        "for epoch in range(num_epochs):\n",
        "  prediction = model(X)\n",
        "\n",
        "  loss = criterion(prediction, y)\n",
        "\n",
        "  loss.backward()\n",
        "\n",
        "  opt.step()\n",
        "\n",
        "  opt.zero_grad()\n",
        "\n",
        "  #if epoch % 1 == 0:\n",
        "    #print(f'epoch {epoch+1}- loss: {loss.item():.4f}')\n",
        "\n",
        "predictions = model(X).detach().numpy()\n",
        "\n",
        "plt.plot(X_numpy, y_numpy, 'ro')\n",
        "plt.plot(X_numpy, predictions, 'g')\n",
        "\n",
        "plt.show()"
      ],
      "metadata": {
        "id": "wE4kieAzFJnQ",
        "colab": {
          "base_uri": "https://localhost:8080/",
          "height": 265
        },
        "outputId": "e5c32a55-057f-49c1-ce13-63b99c2c0934"
      },
      "execution_count": null,
      "outputs": [
        {
          "output_type": "display_data",
          "data": {
            "text/plain": [
              "<Figure size 432x288 with 1 Axes>"
            ],
            "image/png": "[encoded data removed]"
          },
          "metadata": {
            "needs_background": "light"
          }
        }
      ]
    },
    {
      "cell_type": "code",
      "source": [
        ""
      ],
      "metadata": {
        "id": "angDLJWiLDdg"
      },
      "execution_count": null,
      "outputs": []
    }
  ]
}