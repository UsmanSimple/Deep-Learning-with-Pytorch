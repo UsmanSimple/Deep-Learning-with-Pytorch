{
  "nbformat": 4,
  "nbformat_minor": 0,
  "metadata": {
    "colab": {
      "name": "2. Linear Regression with PyTorch.ipynb",
      "provenance": [],
      "collapsed_sections": []
    },
    "kernelspec": {
      "name": "python3",
      "display_name": "Python 3"
    },
    "language_info": {
      "name": "python"
    }
  },
  "cells": [
    {
      "cell_type": "markdown",
      "source": [
        "LINEAR REGRESSION WITH PYTORCH"
      ],
      "metadata": {
        "id": "lvxh5Wug3u-2"
      }
    },
    {
      "cell_type": "code",
      "execution_count": null,
      "metadata": {
        "id": "7fsTwshHRcib"
      },
      "outputs": [],
      "source": [
        "# import required libraries\n",
        "import torch\n",
        "import torchvision\n",
        "import numpy as np\n",
        "import pandas as pd\n",
        "import matplotlib.pyplot as plt\n",
        "import seaborn as sns\n",
        "\n",
        "import torch.nn as nn\n",
        "from sklearn import datasets"
      ]
    },
    {
      "cell_type": "markdown",
      "source": [
        "PYTORCH DESIGN FOR MODEL EXECUTION"
      ],
      "metadata": {
        "id": "fYlDfDQu4JNR"
      }
    },
    {
      "cell_type": "code",
      "source": [
        "# Design model (input, output, forward pass) with a OOP design \n",
        "# Construct loss and optimizer\n",
        "# Create a training loop\n",
        "#   - forward pass : compute prediction and loss\n",
        "#   - backward pass: compute gradient\n",
        "#   - optimizer: update weights\n"
      ],
      "metadata": {
        "id": "9Pc1_JmL4CbX"
      },
      "execution_count": null,
      "outputs": []
    },
    {
      "cell_type": "code",
      "source": [
        "class LinearRegression(nn.Module):\n",
        "\n",
        "  def __init__(self, input_dim, output_dim):\n",
        "\n",
        "    super(LinearRegression, self).__init__()\n",
        "\n",
        "    self.lin = nn.Linear(input_dim, output_dim)\n",
        "\n",
        "  def forward(self,x):\n",
        "\n",
        "    return self.lin(x)\n",
        "\n",
        "  \n"
      ],
      "metadata": {
        "id": "vcgVl06E4bb7"
      },
      "execution_count": null,
      "outputs": []
    },
    {
      "cell_type": "code",
      "source": [
        "# prepare dataset\n",
        "X_numpy, y_numpy = datasets.make_regression(n_samples = 100, n_features=1, noise=20, random_state=4)\n",
        "\n",
        "# convert the feature and target to torch variable\n",
        "X = torch.from_numpy(X_numpy.astype(np.float32))\n",
        "y_t = torch.from_numpy(y_numpy.astype(np.float32))\n",
        "\n",
        "# reshape the target into a vector\n",
        "y = y_t.view(y_t.shape[0], 1)\n",
        "\n",
        "\n",
        "print(f\"X_shape: {X.shape}\")\n",
        "print(f'Target shape: {y.shape}')\n",
        "\n"
      ],
      "metadata": {
        "colab": {
          "base_uri": "https://localhost:8080/"
        },
        "id": "VCboy1TW4beN",
        "outputId": "0cf127d9-0a34-4cf9-ad45-27fcb5ec6c68"
      },
      "execution_count": null,
      "outputs": [
        {
          "output_type": "stream",
          "name": "stdout",
          "text": [
            "X_shape: torch.Size([100, 1])\n",
            "Target shape: torch.Size([100, 1])\n"
          ]
        }
      ]
    },
    {
      "cell_type": "code",
      "source": [
        "n_sample, n_features = X.shape\n",
        "input_size = n_features\n",
        "output_size = 1\n",
        "print(n_sample, n_features)"
      ],
      "metadata": {
        "colab": {
          "base_uri": "https://localhost:8080/"
        },
        "id": "p7yzODk-6v5w",
        "outputId": "ace5ccef-c07c-4fe6-bbd8-fa48738ece78"
      },
      "execution_count": null,
      "outputs": [
        {
          "output_type": "stream",
          "name": "stdout",
          "text": [
            "100 1\n"
          ]
        }
      ]
    },
    {
      "cell_type": "code",
      "source": [
        "n_sample, n_features = X.shape\n",
        "input_size = n_features\n",
        "output_size = 1\n",
        "\n",
        "# instantiate the model\n",
        "model = LinearRegression(input_size, output_size)\n",
        "\n",
        "# instantiate the loss MSE\n",
        "criterion = nn.MSELoss()\n",
        "\n",
        "\n",
        "learning_rate = 0.01\n",
        "num_epochs = 100\n",
        "\n",
        "# optimizer to update the weights\n",
        "opt = torch.optim.SGD(model.parameters(), lr = learning_rate)\n",
        "\n",
        "\n",
        "\n",
        "for epoch in range(num_epochs):\n",
        "  # make a prediction, forward pass\n",
        "  prediction = model(X)\n",
        "\n",
        "  # calculate the loss\n",
        "  loss = criterion(prediction, y)\n",
        "\n",
        "  # compute the gradient, backward pass\n",
        "  loss.backward()\n",
        "\n",
        "  # update the weights\n",
        "  opt.step()\n",
        "\n",
        "  # empty the grdients for next iteration\n",
        "  opt.zero_grad()\n",
        "\n",
        "  if epoch % 10 == 0:\n",
        "    print(f'epoch - {epoch+1}, loss: {loss.item():.4f}')\n"
      ],
      "metadata": {
        "colab": {
          "base_uri": "https://localhost:8080/"
        },
        "id": "xwyXluTv3UMs",
        "outputId": "361c8ba7-9d27-4a99-e78b-21dfbb7bff45"
      },
      "execution_count": null,
      "outputs": [
        {
          "output_type": "stream",
          "name": "stdout",
          "text": [
            "epoch 1- loss: 5652.1650\n",
            "epoch 11- loss: 3945.7649\n",
            "epoch 21- loss: 2782.9355\n",
            "epoch 31- loss: 1990.3475\n",
            "epoch 41- loss: 1450.0012\n",
            "epoch 51- loss: 1081.5422\n",
            "epoch 61- loss: 830.2402\n",
            "epoch 71- loss: 658.8083\n",
            "epoch 81- loss: 541.8389\n",
            "epoch 91- loss: 462.0141\n"
          ]
        }
      ]
    },
    {
      "cell_type": "code",
      "source": [
        "# detach to avoid grad computation\n",
        "predictions = model(X).detach().numpy()\n",
        "\n",
        "plt.plot(X_numpy, y_numpy, 'ro')\n",
        "plt.plot(X_numpy, predictions, 'g')\n",
        "\n",
        "plt.show()"
      ],
      "metadata": {
        "colab": {
          "base_uri": "https://localhost:8080/",
          "height": 265
        },
        "id": "bo3gsNH26T9t",
        "outputId": "4373b361-793a-457a-a6c4-6aab54c9b017"
      },
      "execution_count": null,
      "outputs": [
        {
          "output_type": "display_data",
          "data": {
            "text/plain": [
              "<Figure size 432x288 with 1 Axes>"
            ],
            "image/png": "[encoded data removed]"
          },
          "metadata": {
            "needs_background": "light"
          }
        }
      ]
    },
    {
      "cell_type": "code",
      "source": [
        ""
      ],
      "metadata": {
        "id": "HQHeJy1P7U_q"
      },
      "execution_count": null,
      "outputs": []
    }
  ]
}