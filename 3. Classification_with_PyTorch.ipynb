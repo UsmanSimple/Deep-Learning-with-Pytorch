{
  "nbformat": 4,
  "nbformat_minor": 0,
  "metadata": {
    "colab": {
      "name": "3. Classification with PyTorch.ipynb",
      "provenance": [],
      "collapsed_sections": []
    },
    "kernelspec": {
      "name": "python3",
      "display_name": "Python 3"
    },
    "language_info": {
      "name": "python"
    }
  },
  "cells": [
    {
      "cell_type": "code",
      "execution_count": null,
      "metadata": {
        "id": "AspOiWli_-Z8"
      },
      "outputs": [],
      "source": [
        "# import required libraries\n",
        "import torch\n",
        "import torchvision\n",
        "import numpy as np\n",
        "import pandas as pd\n",
        "import matplotlib.pyplot as plt\n",
        "import seaborn as sns\n",
        "\n",
        "import torch.nn as nn\n",
        "from sklearn import datasets\n",
        "from sklearn.preprocessing import StandardScaler\n",
        "from sklearn.model_selection import train_test_split"
      ]
    },
    {
      "cell_type": "markdown",
      "source": [
        "GET DATASET"
      ],
      "metadata": {
        "id": "-e5dZt89CtjD"
      }
    },
    {
      "cell_type": "code",
      "source": [
        "# get dataset\n",
        " \n",
        "bc = datasets.load_breast_cancer()\n",
        "\n",
        "X, y = bc.data, bc.target\n",
        "\n",
        "n_samples, n_features = X.shape\n",
        "\n",
        "input_dim = n_features\n",
        "\n",
        "print(n_samples, n_features)\n"
      ],
      "metadata": {
        "colab": {
          "base_uri": "https://localhost:8080/"
        },
        "id": "1pUreEkCAOuE",
        "outputId": "95382f89-b55c-45bd-806e-c722e091d0e4"
      },
      "execution_count": null,
      "outputs": [
        {
          "output_type": "stream",
          "name": "stdout",
          "text": [
            "569 30\n"
          ]
        }
      ]
    },
    {
      "cell_type": "code",
      "source": [
        "y[-10:-1]"
      ],
      "metadata": {
        "colab": {
          "base_uri": "https://localhost:8080/"
        },
        "id": "lWOW_V7TEUIf",
        "outputId": "540a8e4f-f5d7-402f-f9b1-d431af16315c"
      },
      "execution_count": null,
      "outputs": [
        {
          "output_type": "execute_result",
          "data": {
            "text/plain": [
              "array([1, 1, 1, 0, 0, 0, 0, 0, 0])"
            ]
          },
          "metadata": {},
          "execution_count": 7
        }
      ]
    },
    {
      "cell_type": "markdown",
      "source": [
        "PREPARE DATASET"
      ],
      "metadata": {
        "id": "JQxBIWGgCvyn"
      }
    },
    {
      "cell_type": "code",
      "source": [
        "# split dataset into test and train set\n",
        "X_train, X_test, y_train, y_test = train_test_split(X, y, test_size= 0.2, shuffle =True, random_state = 42)\n",
        "\n",
        "# initiate the Standard Scalar\n",
        "sc = StandardScaler()\n",
        "X_train = sc.fit_transform(X_train)\n",
        "X_test = sc.transform(X_test)\n",
        "\n",
        "# transform the features and target into torch variables\n",
        "X_train = torch.from_numpy(X_train.astype(np.float32))\n",
        "X_test = torch.from_numpy(X_test.astype(np.float32))\n",
        "y_train = torch.from_numpy(y_train.astype(np.float32))\n",
        "y_test = torch.from_numpy(y_test.astype(np.float32))\n",
        "\n",
        "# reshape the target to 1D vector\n",
        "y_train = y_train.view(y_train.shape[0], 1)\n",
        "y_test = y_test.view(y_test.shape[0], 1)"
      ],
      "metadata": {
        "id": "clNknv64BXv5"
      },
      "execution_count": null,
      "outputs": []
    },
    {
      "cell_type": "markdown",
      "source": [
        "CREATE MODEL"
      ],
      "metadata": {
        "id": "FUAZprC6DOU3"
      }
    },
    {
      "cell_type": "code",
      "source": [
        "# For classification, sigmoid function is used \n",
        "# y = wx + b, sigmoid for probability = 1/(1+e-y)\n",
        "\n",
        "class LogisticRegression(nn.Module):\n",
        "\n",
        "  def __init__(self, input_features_dim):\n",
        "\n",
        "    super(LogisticRegression, self).__init__()\n",
        "\n",
        "    self.linear = nn.Linear(input_features_dim, 1) # 1 because we only want one label out\n",
        "\n",
        "  def forward(self, x):\n",
        "    y_preds = torch.sigmoid(self.linear(x))\n",
        "\n",
        "    return y_preds\n"
      ],
      "metadata": {
        "id": "vP2kbQz0DMFj"
      },
      "execution_count": null,
      "outputs": []
    },
    {
      "cell_type": "markdown",
      "source": [
        "TRAINING"
      ],
      "metadata": {
        "id": "--6fj2u9INc7"
      }
    },
    {
      "cell_type": "code",
      "source": [
        "# instantiate the model\n",
        "model = LogisticRegression(n_features)\n",
        "\n",
        "# loss \n",
        "criterion = nn.BCELoss()\n",
        "\n",
        "# optimizer\n",
        "lr = 0.01\n",
        "optim = torch.optim.SGD(model.parameters(), lr = lr)\n",
        "\n",
        "num_epochs = 100\n",
        "\n",
        "# training loop\n",
        "total_acc,  total_count = 0, 0\n",
        "for epoch in range(num_epochs):\n",
        "  # forward pass\n",
        "  outputs = model(X_train)\n",
        "\n",
        "  # compute loss\n",
        "  loss = criterion(outputs, y_train)\n",
        "\n",
        "  # backward pass\n",
        "  loss.backward()\n",
        "\n",
        "  _, predicted = torch.max(outputs.data, 1)\n",
        "  \n",
        "  # update weights\n",
        "  optim.step()\n",
        "\n",
        "  # zero grad\n",
        "  optim.zero_grad()\n",
        "\n",
        "\n",
        "  if (epoch+1) % 10 == 0:\n",
        "    print(f'epoch - {epoch + 1}, loss : {loss.item():.4f}')\n"
      ],
      "metadata": {
        "colab": {
          "base_uri": "https://localhost:8080/"
        },
        "id": "5Ay5G7DzE64K",
        "outputId": "b08e1782-1b89-4188-a7cf-920650b79bb7"
      },
      "execution_count": null,
      "outputs": [
        {
          "output_type": "stream",
          "name": "stdout",
          "text": [
            "epoch - 10, loss : 0.5071\n",
            "epoch - 20, loss : 0.4357\n",
            "epoch - 30, loss : 0.3874\n",
            "epoch - 40, loss : 0.3524\n",
            "epoch - 50, loss : 0.3256\n",
            "epoch - 60, loss : 0.3045\n",
            "epoch - 70, loss : 0.2873\n",
            "epoch - 80, loss : 0.2729\n",
            "epoch - 90, loss : 0.2607\n",
            "epoch - 100, loss : 0.2502\n"
          ]
        }
      ]
    },
    {
      "cell_type": "markdown",
      "source": [
        "EVALUATION AND PREDICTION"
      ],
      "metadata": {
        "id": "uvYSxuYcIPZp"
      }
    },
    {
      "cell_type": "code",
      "source": [
        "def accuracy(preds, target):\n",
        "  preds = preds.round()\n",
        "  acc = preds.eq(target).sum()/ target.numel()\n",
        "  return acc.items()"
      ],
      "metadata": {
        "id": "U8faAm5KKlW2"
      },
      "execution_count": null,
      "outputs": []
    },
    {
      "cell_type": "code",
      "source": [
        "# since we don't want to track our grad history,\n",
        "# we use torch.no grad with context manager\n",
        "with torch.no_grad():\n",
        "  y_preds = model(X_test)\n",
        "  acc = accuracy(y_preds, y_test)\n",
        "  print(acc)"
      ],
      "metadata": {
        "id": "I-nZyKl-FQ6A",
        "colab": {
          "base_uri": "https://localhost:8080/"
        },
        "outputId": "af347de4-1e06-4256-be53-9fb0bc1776ff"
      },
      "execution_count": null,
      "outputs": [
        {
          "output_type": "stream",
          "name": "stdout",
          "text": [
            "0.9649122953414917\n"
          ]
        }
      ]
    },
    {
      "cell_type": "code",
      "source": [
        "from sklearn.metrics import classification_report, confusion_matrix\n",
        "preds = y_preds.round()\n",
        "print(classification_report(y_test, preds))"
      ],
      "metadata": {
        "colab": {
          "base_uri": "https://localhost:8080/"
        },
        "id": "Ybz3S8BWLVP0",
        "outputId": "e28b8228-ea68-4baa-c68b-18dabb6a1ed3"
      },
      "execution_count": null,
      "outputs": [
        {
          "output_type": "stream",
          "name": "stdout",
          "text": [
            "              precision    recall  f1-score   support\n",
            "\n",
            "         0.0       0.95      0.95      0.95        43\n",
            "         1.0       0.97      0.97      0.97        71\n",
            "\n",
            "    accuracy                           0.96       114\n",
            "   macro avg       0.96      0.96      0.96       114\n",
            "weighted avg       0.96      0.96      0.96       114\n",
            "\n"
          ]
        }
      ]
    },
    {
      "cell_type": "code",
      "source": [
        "print(confusion_matrix(y_test, preds))"
      ],
      "metadata": {
        "colab": {
          "base_uri": "https://localhost:8080/"
        },
        "id": "yql_DopgTG6M",
        "outputId": "891d8c53-9700-4a0b-aae2-9a7754044ea4"
      },
      "execution_count": null,
      "outputs": [
        {
          "output_type": "stream",
          "name": "stdout",
          "text": [
            "[[41  2]\n",
            " [ 2 69]]\n"
          ]
        }
      ]
    },
    {
      "cell_type": "code",
      "source": [
        "bc.feature_names"
      ],
      "metadata": {
        "colab": {
          "base_uri": "https://localhost:8080/"
        },
        "id": "AxQmObQvVlG4",
        "outputId": "325c4883-5d7f-475e-da48-0497ab08c4e4"
      },
      "execution_count": null,
      "outputs": [
        {
          "output_type": "execute_result",
          "data": {
            "text/plain": [
              "array(['mean radius', 'mean texture', 'mean perimeter', 'mean area',\n",
              "       'mean smoothness', 'mean compactness', 'mean concavity',\n",
              "       'mean concave points', 'mean symmetry', 'mean fractal dimension',\n",
              "       'radius error', 'texture error', 'perimeter error', 'area error',\n",
              "       'smoothness error', 'compactness error', 'concavity error',\n",
              "       'concave points error', 'symmetry error',\n",
              "       'fractal dimension error', 'worst radius', 'worst texture',\n",
              "       'worst perimeter', 'worst area', 'worst smoothness',\n",
              "       'worst compactness', 'worst concavity', 'worst concave points',\n",
              "       'worst symmetry', 'worst fractal dimension'], dtype='<U23')"
            ]
          },
          "metadata": {},
          "execution_count": 29
        }
      ]
    },
    {
      "cell_type": "code",
      "source": [
        "print(bc.keys())"
      ],
      "metadata": {
        "colab": {
          "base_uri": "https://localhost:8080/"
        },
        "id": "I9X45TTLVw6O",
        "outputId": "3304ceda-992e-4964-e9b5-35660d1e14b2"
      },
      "execution_count": null,
      "outputs": [
        {
          "output_type": "stream",
          "name": "stdout",
          "text": [
            "dict_keys(['data', 'target', 'frame', 'target_names', 'DESCR', 'feature_names', 'filename', 'data_module'])\n"
          ]
        }
      ]
    },
    {
      "cell_type": "code",
      "source": [
        "import seaborn as sns\n",
        "import matplotlib.pyplot as plt     \n",
        "cm = confusion_matrix(y_test, preds)\n",
        "ax= plt.subplot()\n",
        "sns.heatmap(cm, annot=True, cmap='Greens', fmt='d', ax=ax);  #annot=True to annotate cells, ftm='g' to disable scientific notation\n",
        "\n",
        "# labels, title and ticks\n",
        "ax.set_xlabel('Predicted labels')\n",
        "ax.set_ylabel('True labels'); \n",
        "ax.set_title('Confusion Matrix'); \n",
        "ax.xaxis.set_ticklabels(['Malignant', 'Benign']); \n",
        "ax.yaxis.set_ticklabels(['Benign', 'Malignant']);"
      ],
      "metadata": {
        "colab": {
          "base_uri": "https://localhost:8080/",
          "height": 295
        },
        "id": "85rL8TvHT4lN",
        "outputId": "fb534b18-044c-47c5-d448-a1163f19bcaa"
      },
      "execution_count": null,
      "outputs": [
        {
          "output_type": "display_data",
          "data": {
            "text/plain": [
              "<Figure size 432x288 with 2 Axes>"
            ],
            "image/png": "[encoded data removed]"
          },
          "metadata": {
            "needs_background": "light"
          }
        }
      ]
    },
    {
      "cell_type": "code",
      "source": [
        ""
      ],
      "metadata": {
        "id": "aiYZ1wULWKK4"
      },
      "execution_count": null,
      "outputs": []
    }
  ]
}